{
 "cells": [
  {
   "cell_type": "markdown",
   "metadata": {},
   "source": [
    "### 구현\n",
    "- Python : C로 구현한 파이썬 자체(CPython)\n",
    "- PyPy : Python으로 구현한 파이썬"
   ]
  },
  {
   "cell_type": "markdown",
   "metadata": {},
   "source": [
    "#### 예제 4-1\n",
    "- 여행가  A가 NxN 정사각형 곤간에서, LRUD 방향으로 옮겨갈 수 있음\n",
    "- 1 <= N <= 100, 1 <= A의 이동횟수 <= 100\n",
    "- 입력예시\n",
    "    ```shell\n",
    "    5\n",
    "    R R R U D D\n",
    "    ```\n",
    "- 출력예시\n",
    "    ```shell\n",
    "    3 4\n",
    "    ```\n",
    "\n",
    "- 복잡도 -> $0(n^2)$"
   ]
  },
  {
   "cell_type": "code",
   "execution_count": 3,
   "metadata": {},
   "outputs": [
    {
     "name": "stdout",
     "output_type": "stream",
     "text": [
      "4 3\n"
     ]
    }
   ],
   "source": [
    "n = int(input()) #  공간크기 입력\n",
    "x, y = 1, 1\n",
    "plans = input().split() # 이동방향\n",
    "\n",
    "# L R U D에 따른 이동방향\n",
    "directions = ['L', 'R', 'U', 'D']\n",
    "dx = [-1, 1, 0, 0] # 이동 방향에 대한 x값\n",
    "dy = [0, 0, -1, 1] # 이동 방향에 대한 y값\n",
    "\n",
    "for plan in plans:\n",
    "    dir = str(plan).upper()\n",
    "    for i in range(len(directions)):\n",
    "        if dir == directions[i]:\n",
    "            nx = x + dx[i]\n",
    "            ny = y + dy[i]\n",
    "    if nx < 1 or nx > n or ny < 1 or ny > n:\n",
    "        continue\n",
    "    else:\n",
    "        x, y = nx, ny\n",
    "print(x, y)"
   ]
  },
  {
   "cell_type": "markdown",
   "metadata": {},
   "source": [
    "#### p118 게임 개발\n",
    "- 1X1 정사각형 타일로 이루어진 NxM 크기의 직사각형 지도\n",
    "- 1은 바다 0은 육지\n",
    "- 캐릭터는 동(1)서(3)남(2)북(0)을 바라보고 있음\n",
    "- 캐릭터는 상하좌우로 이동가능, 바다로 된 공간은 이동불가\n",
    "- 캐릭터는 북쪽으로 이동, 90도 왼쪽으로 회전 시\n",
    "- 이 루틴 반복해서 캐릭터가 방문한 칸의 수를 출력\n",
    "\n",
    "- 입력 예시\n",
    "    ```shell\n",
    "    4 4  # 4x4 지도 생성\n",
    "    1 1 0 # 캐릭터 x, y 방향(0=북쪽)\n",
    "    1 1 1 1 # 0은 육지, 1 바다, 첫줄은 모두 바다\n",
    "    1 0 0 1\n",
    "    1 1 0 1\n",
    "    1 1 1 1\n",
    "\n",
    "- 출력 예시\n",
    "\n",
    "    3"
   ]
  },
  {
   "cell_type": "code",
   "execution_count": 5,
   "metadata": {},
   "outputs": [
    {
     "name": "stdout",
     "output_type": "stream",
     "text": [
      "3\n"
     ]
    }
   ],
   "source": [
    "# N, M을 공백으로 구분하여 입력받기\n",
    "n , m = map(int, input().split())\n",
    "\n",
    "# 방문한 위치를 저장하기 위한 맵을 생성하여 0으로 초기화\n",
    "d = [[0] * m for _ in range(n)]\n",
    "# 현재 캐릭터의 X 좌표, Y 좌표, 방향을 입력\n",
    "x, y, direction = map(int, input().split())\n",
    "d[x][y] = 1 # 현재 좌표 방문 처리\n",
    "\n",
    "# 전체 맵 정보를 입력\n",
    "array = []\n",
    "for i in range(n):\n",
    "  array.append(list(map(int, input().split())))\n",
    "\n",
    "# 북, 동, 남, 서 방향 정의\n",
    "dx = [-1, 0, 1, 0]\n",
    "dy = [0, 1, 0, -1]\n",
    "\n",
    "# 왼쪽으로 회전\n",
    "def turn_left():\n",
    "  global direction\n",
    "  direction -= 1\n",
    "  if direction == -1:\n",
    "    direction = 3\n",
    "\n",
    "# 시뮬레이션 시작\n",
    "count = 1\n",
    "turn_time = 0\n",
    "while True:\n",
    "  # 왼쪽으로 회전\n",
    "  turn_left()\n",
    "  nx = x + dx[direction]\n",
    "  ny = y + dy[direction]\n",
    "  # 회전한 이후 정면에 가보지 않은 칸이 존재하는 경우 이동\n",
    "  if d[nx][ny] == 0 and array[nx][ny] == 0:\n",
    "    d[nx][ny] = 1\n",
    "    x = nx\n",
    "    y = ny\n",
    "    count += 1\n",
    "    turn_time = 0\n",
    "    continue\n",
    "  # 회전한 이후 정면에 가보지 않은 칸이 없거나 바다인 경우\n",
    "  else:\n",
    "    turn_time += 1\n",
    "  # 네 방향 모두 갈 수 없는 경우\n",
    "  if turn_time == 4:\n",
    "    nx = x - dx[direction]\n",
    "    ny = y - dy[direction]\n",
    "    # 뒤로 갈 수 있다면 이동하기\n",
    "    if array[nx][ny] == 0:\n",
    "      x = nx\n",
    "      y = ny\n",
    "    # 뒤가 바다로 막혀있는 경우\n",
    "    else:\n",
    "      break\n",
    "    turn_time = 0\n",
    "\n",
    "# 정답 출력\n",
    "print(count)"
   ]
  },
  {
   "cell_type": "markdown",
   "metadata": {},
   "source": []
  }
 ],
 "metadata": {
  "kernelspec": {
   "display_name": "Python 3",
   "language": "python",
   "name": "python3"
  },
  "language_info": {
   "codemirror_mode": {
    "name": "ipython",
    "version": 3
   },
   "file_extension": ".py",
   "mimetype": "text/x-python",
   "name": "python",
   "nbconvert_exporter": "python",
   "pygments_lexer": "ipython3",
   "version": "3.11.5"
  }
 },
 "nbformat": 4,
 "nbformat_minor": 2
}
