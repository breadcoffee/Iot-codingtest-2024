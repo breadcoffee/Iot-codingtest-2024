{
 "cells": [
  {
   "cell_type": "code",
   "execution_count": 9,
   "metadata": {},
   "outputs": [
    {
     "data": {
      "text/plain": [
       "4"
      ]
     },
     "execution_count": 9,
     "metadata": {},
     "output_type": "execute_result"
    }
   ],
   "source": [
    "int(18 / 4)\n"
   ]
  },
  {
   "cell_type": "code",
   "execution_count": 169,
   "metadata": {},
   "outputs": [
    {
     "ename": "ZeroDivisionError",
     "evalue": "division by zero",
     "output_type": "error",
     "traceback": [
      "\u001b[1;31m---------------------------------------------------------------------------\u001b[0m",
      "\u001b[1;31mZeroDivisionError\u001b[0m                         Traceback (most recent call last)",
      "Cell \u001b[1;32mIn[169], line 12\u001b[0m\n\u001b[0;32m      9\u001b[0m     div \u001b[38;5;241m=\u001b[39m \u001b[38;5;241m2\u001b[39m\n\u001b[0;32m     11\u001b[0m row, col \u001b[38;5;241m=\u001b[39m \u001b[38;5;241m0\u001b[39m, \u001b[38;5;241m0\u001b[39m\n\u001b[1;32m---> 12\u001b[0m row \u001b[38;5;241m=\u001b[39m \u001b[38;5;28mint\u001b[39m(\u001b[43mn\u001b[49m\u001b[43m \u001b[49m\u001b[38;5;241;43m/\u001b[39;49m\u001b[43m \u001b[49m\u001b[43mdiv\u001b[49m)\n\u001b[0;32m     13\u001b[0m col \u001b[38;5;241m=\u001b[39m \u001b[38;5;28mint\u001b[39m(n \u001b[38;5;241m/\u001b[39m row)\n\u001b[0;32m     14\u001b[0m tmp \u001b[38;5;241m=\u001b[39m row \u001b[38;5;241m*\u001b[39m col\n",
      "\u001b[1;31mZeroDivisionError\u001b[0m: division by zero"
     ]
    }
   ],
   "source": [
    "n = int(input())\n",
    "## n을 4로 나눔/ 제수를 \n",
    "div = 0\n",
    "if n <= 20:\n",
    "    div = 4\n",
    "if n <= 15:\n",
    "    div = 3\n",
    "if n < 5:\n",
    "    div = 2\n",
    "\n",
    "row, col = 0, 0\n",
    "row = int(n / div)\n",
    "col = int(n / row)\n",
    "tmp = row * col\n",
    "\n",
    "if (tmp < n):    \n",
    "    row += 1\n",
    "\n",
    "array = [[0] * row for _ in range(col)]\n",
    "\n",
    "# flagx = 1일때 x 값 증가 flagx = 2일때 x값 감소\n",
    "# flagy = 1일때 y 값 증가 flagy = 2일때 y값 감소\n",
    "flagx = 1\n",
    "flagy = 1\n",
    "# 초기화\n",
    "r, c = 0, 0\n",
    "\n",
    "# x, y 증가 시 시작 위치지정\n",
    "plusx = 0\n",
    "plusy = 1\n",
    "\n",
    "# x, y 감소 시 끝나는 위치지정\n",
    "minusx = -1\n",
    "minusy = 0\n",
    "\n",
    "# 큰 숫자부터 1씩 감소해서 \n",
    "while n >= 1:\n",
    "    # x 값이 증가할때\n",
    "    if flagx == 1:\n",
    "        for c in range(plusx, col):\n",
    "            array[c][r] = n\n",
    "            n -= 1\n",
    "        flagx = 2\n",
    "        plusx += 1\n",
    "        col -= 1\n",
    "    # y 값이 증가할때\n",
    "    if flagy == 1:\n",
    "        for r in range(plusy, row):        \n",
    "            array[c][r] = n \n",
    "            n -= 1\n",
    "        flagy = 2\n",
    "        plusy += 1\n",
    "        row -= 1\n",
    "    # x 값이 감소할때\n",
    "    if flagx == 2:\n",
    "        for c in range((col-1), minusx, -1):\n",
    "            array[c][r] = n\n",
    "            n -= 1\n",
    "        flagx = 1\n",
    "        minusx += 1\n",
    "    # y 값이 감소할때\n",
    "    if flagy == 2:\n",
    "        for r in range((row-1), minusy, -1):        \n",
    "            array[c][r] = n \n",
    "            n -= 1\n",
    "        flagy = 1\n",
    "        minusy += 1\n",
    "\n",
    "for i in range(div):\n",
    "    print(array[i])"
   ]
  }
 ],
 "metadata": {
  "kernelspec": {
   "display_name": "Python 3",
   "language": "python",
   "name": "python3"
  },
  "language_info": {
   "codemirror_mode": {
    "name": "ipython",
    "version": 3
   },
   "file_extension": ".py",
   "mimetype": "text/x-python",
   "name": "python",
   "nbconvert_exporter": "python",
   "pygments_lexer": "ipython3",
   "version": "3.11.5"
  }
 },
 "nbformat": 4,
 "nbformat_minor": 2
}
